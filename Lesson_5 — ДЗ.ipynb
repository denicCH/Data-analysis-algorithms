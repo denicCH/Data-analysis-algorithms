{
 "cells": [
  {
   "cell_type": "code",
   "execution_count": null,
   "metadata": {},
   "outputs": [],
   "source": [
    "Еще доделываю..."
   ]
  },
  {
   "cell_type": "markdown",
   "metadata": {},
   "source": [
    "<a href=#1>1. Сформировать с помощью sklearn.make_classification датасет из 100 объектов с двумя признаками, обучить случайный лес из 1, 3, 10 и 50 деревьев и визуализировать их разделяющие гиперплоскости на графиках (по подобию визуализации деревьев из предыдущего урока, необходимо только заменить вызов функции predict на tree_vote).</a>"
   ]
  },
  {
   "cell_type": "markdown",
   "metadata": {},
   "source": [
    "<a href=#2>2. Сделать выводы о получаемой сложности гиперплоскости и недообучении или переобучении случайного леса в зависимости от количества деревьев в нем.</a>"
   ]
  },
  {
   "cell_type": "markdown",
   "metadata": {},
   "source": [
    "<a href=#3>3. Заменить в реализованном алгоритме проверку с помощью отложенной выборки на Out-of-Bag.</a>"
   ]
  },
  {
   "cell_type": "markdown",
   "metadata": {},
   "source": [
    "<a href=#4> 4. (На повторение) Переписать функцию gini из урока про решающие деревья так, чтобы в качестве критерия использовалась энтропия Шэннона. Переименовать функцию в entropy.</a>"
   ]
  },
  {
   "cell_type": "code",
   "execution_count": 213,
   "metadata": {},
   "outputs": [],
   "source": [
    "import matplotlib.pyplot as plt\n",
    "import random\n",
    "from time import perf_counter\n",
    "from matplotlib.colors import ListedColormap\n",
    "from sklearn.datasets import make_classification\n",
    "\n",
    "import numpy as np"
   ]
  },
  {
   "cell_type": "code",
   "execution_count": 215,
   "metadata": {},
   "outputs": [],
   "source": []
  },
  {
   "cell_type": "code",
   "execution_count": 7,
   "metadata": {},
   "outputs": [
    {
     "data": {
      "text/plain": [
       "array([1, 1, 1, 0, 1, 1, 1, 0, 1, 0, 0, 1, 0, 1, 1, 1, 1, 1, 0, 0, 0, 0,\n",
       "       0, 0, 1, 0, 1, 0, 1, 0, 1, 1, 0, 1, 1, 0, 0, 1, 1, 1, 1, 0, 1, 1,\n",
       "       1, 1, 0, 1, 1, 0, 0, 0, 0, 0, 0, 1, 1, 1, 0, 1, 0, 1, 0, 1, 0, 0,\n",
       "       0, 0, 0, 0, 1, 1, 0, 1, 0, 0, 0, 1, 0, 1, 0, 0, 1, 1, 0, 0, 0, 1,\n",
       "       0, 1, 0, 1, 0, 0, 1, 0, 0, 1, 0, 1])"
      ]
     },
     "execution_count": 7,
     "metadata": {},
     "output_type": "execute_result"
    }
   ],
   "source": [
    "classification_labels"
   ]
  },
  {
   "cell_type": "code",
   "execution_count": 216,
   "metadata": {},
   "outputs": [],
   "source": [
    "def time_(func):\n",
    "    def r(*args, **kwargs):\n",
    "        t_start= perf_counter()\n",
    "        result = func(*args, **kwargs)\n",
    "        t_stop = perf_counter()     \n",
    "        result_time = t_stop - t_start\n",
    "        print(f'time {func.__name__}: {result_time*1000:.3f} ms')\n",
    "        return result\n",
    "    return r\n",
    "\n",
    "#Реализуем генерацию  𝑁  бутстрап-выборок и подмножества признаков для нахождения разбиения в узле.\n",
    "np.random.seed(42)\n",
    "\n",
    "def get_bootstrap(data, labels, N):\n",
    "    n_samples = data.shape[0] # размер совпадает с исходной выборкой\n",
    "    bootstrap = []\n",
    "    \n",
    "    for i in range(N):\n",
    "        \n",
    "        sample_index = np.random.randint(0, n_samples, size=n_samples)\n",
    "        b_data = data[sample_index]\n",
    "        b_labels = labels[sample_index]\n",
    "        \n",
    "        bootstrap.append((b_data, b_labels))\n",
    "        \n",
    "    return bootstrap\n",
    "\n",
    "def get_subsample(len_sample):\n",
    "    # будем сохранять не сами признаки, а их индексы\n",
    "    sample_indexes = list(range(len_sample))\n",
    "    len_subsample = int(np.sqrt(len_sample))    \n",
    "    subsample = np.random.choice(sample_indexes, size=len_subsample, replace=False)\n",
    "    return subsample\n",
    "\n",
    "# Реализуем класс узла\n",
    "\n",
    "class Node:\n",
    "    \n",
    "    def __init__(self, index, t, true_branch, false_branch):\n",
    "        self.index = index  # индекс признака, по которому ведется сравнение с порогом в этом узле\n",
    "        self.t = t  # значение порога\n",
    "        self.true_branch = true_branch  # поддерево, удовлетворяющее условию в узле\n",
    "        self.false_branch = false_branch  # поддерево, не удовлетворяющее условию в узле\n",
    "\n",
    "        \n",
    "\n",
    " # И класс терминального узла (листа)\n",
    "\n",
    "class Leaf:\n",
    "    \n",
    "    def __init__(self, data, labels):\n",
    "        self.data = data\n",
    "        self.labels = labels\n",
    "        self.prediction = self.predict()\n",
    "        \n",
    "    def predict(self):\n",
    "        # подсчет количества объектов разных классов\n",
    "        classes = {}  # сформируем словарь \"класс: количество объектов\"\n",
    "        for label in self.labels:\n",
    "            if label not in classes:\n",
    "                classes[label] = 0\n",
    "            classes[label] += 1\n",
    "            \n",
    "        # найдем класс, количество объектов которого будет максимальным в этом листе и вернем его    \n",
    "        prediction = max(classes, key=classes.get)\n",
    "        return prediction \n",
    "\n",
    "# Расчет критерия Джини\n",
    "\n",
    "def gini(labels):\n",
    "    #  подсчет количества объектов разных классов\n",
    "    classes = {}\n",
    "    for label in labels:\n",
    "        if label not in classes:\n",
    "            classes[label] = 0\n",
    "        classes[label] += 1\n",
    "    \n",
    "    #  расчет критерия\n",
    "    impurity = 1\n",
    "    for label in classes:\n",
    "        p = classes[label] / len(labels)\n",
    "        impurity -= p ** 2\n",
    "        \n",
    "    return impurity    \n",
    "\n",
    "# Расчет прироста\n",
    "\n",
    "def gain(left_labels, right_labels, root_gini):\n",
    "\n",
    "    # доля выборки, ушедшая в левое поддерево\n",
    "    p = float(left_labels.shape[0]) / (left_labels.shape[0] + right_labels.shape[0])\n",
    "    \n",
    "    return root_gini - p * gini(left_labels) - (1 - p) * gini(right_labels)\n",
    "\n",
    "# Разбиение датасета в узле\n",
    "\n",
    "def split(data, labels, column_index, t):\n",
    "    \n",
    "    left = np.where(data[:, column_index] <= t)\n",
    "    right = np.where(data[:, column_index] > t)\n",
    "        \n",
    "    true_data = data[left]\n",
    "    false_data = data[right]\n",
    "    \n",
    "    true_labels = labels[left]\n",
    "    false_labels = labels[right]\n",
    "        \n",
    "    return true_data, false_data, true_labels, false_labels\n",
    "\n",
    "# Нахождение наилучшего разбиения\n",
    "\n",
    "def find_best_split(data, labels):\n",
    "    \n",
    "    #  обозначим минимальное количество объектов в узле\n",
    "    min_leaf_samples = 5\n",
    "\n",
    "    root_gini = gini(labels)\n",
    "\n",
    "    best_gain = 0\n",
    "    best_t = None\n",
    "    best_index = None\n",
    "    \n",
    "    n_features = data.shape[1]\n",
    "    \n",
    "    feature_subsample_indices = get_subsample(n_features) # выбираем случайные признаки\n",
    "    \n",
    "    for index in feature_subsample_indices:\n",
    "        # будем проверять только уникальные значения признака, исключая повторения\n",
    "        t_values = np.unique(data[:, index])\n",
    "        \n",
    "        for t in t_values:\n",
    "            true_data, false_data, true_labels, false_labels = split(data, labels, index, t)\n",
    "            #  пропускаем разбиения, в которых в узле остается менее 5 объектов\n",
    "#             if len(true_data) < min_leaf_samples or len(false_data) < min_leaf_samples:\n",
    "#                 continue\n",
    "            \n",
    "            current_gain = gain(true_labels, false_labels, root_gini)\n",
    "            \n",
    "            #  выбираем порог, на котором получается максимальный прирост качества\n",
    "            if current_gain > best_gain:\n",
    "                best_gain, best_t, best_index = current_gain, t, index\n",
    "\n",
    "    return best_gain, best_t, best_index\n",
    "\n",
    "# Построение дерева с помощью рекурсивной функции\n",
    "\n",
    "def build_tree(data, labels):\n",
    "\n",
    "    gain, t, index = find_best_split(data, labels)\n",
    "\n",
    "    #  Базовый случай - прекращаем рекурсию, когда нет прироста в качества\n",
    "    if gain == 0:\n",
    "        return Leaf(data, labels)\n",
    "\n",
    "    true_data, false_data, true_labels, false_labels = split(data, labels, index, t)\n",
    "\n",
    "    # Рекурсивно строим два поддерева\n",
    "    true_branch = build_tree(true_data, true_labels)\n",
    "    false_branch = build_tree(false_data, false_labels)\n",
    "\n",
    "    # Возвращаем класс узла со всеми поддеревьями, то есть целого дерева\n",
    "    return Node(index, t, true_branch, false_branch)\n",
    "\n",
    "\n",
    "#Теперь добавим функцию формирования случайного леса.\n",
    "@time_\n",
    "def random_forest(data, labels, n_trees):\n",
    "    forest = []\n",
    "    bootstrap = get_bootstrap(data, labels, n_trees)\n",
    "    \n",
    "    for b_data, b_labels in bootstrap:\n",
    "        forest.append(build_tree(b_data, b_labels))\n",
    "        \n",
    "    return forest\n",
    "\n",
    "# функция формирования предсказания по выборке на одном дереве\n",
    "\n",
    "def predict(data, tree):\n",
    "    classes = []\n",
    "    for obj in data:\n",
    "        prediction = classify_object(obj, tree)\n",
    "        classes.append(prediction)\n",
    "    return classes\n",
    "\n",
    "\n",
    "# предсказание голосованием деревьев\n",
    "\n",
    "def tree_vote(forest, data):\n",
    "\n",
    "    # добавим предсказания всех деревьев в список\n",
    "    predictions = []\n",
    "    for tree in forest:\n",
    "        predictions.append(predict(data, tree))\n",
    "#     print(predictions)\n",
    "\n",
    "    # сформируем список с предсказаниями для каждого объекта\n",
    "    predictions_per_object = list(zip(*predictions))\n",
    "#     print(predictions_per_object)\n",
    "\n",
    "    # выберем в качестве итогового предсказания для каждого объекта то,\n",
    "    # за которое проголосовало большинство деревьев\n",
    "    voted_predictions = []\n",
    "    for obj in predictions_per_object:\n",
    "        voted_predictions.append(max(set(obj), key=obj.count))\n",
    "        \n",
    "    return voted_predictions\n",
    "\n",
    "\n",
    "# Функция классификации отдельного объекта\n",
    "\n",
    "def classify_object(obj, node):\n",
    "\n",
    "    #  Останавливаем рекурсию, если достигли листа\n",
    "    if isinstance(node, Leaf):\n",
    "        answer = node.prediction\n",
    "        return answer\n",
    "\n",
    "    if obj[node.index] <= node.t:\n",
    "        return classify_object(obj, node.true_branch)\n",
    "    else:\n",
    "        return classify_object(obj, node.false_branch)\n",
    "\n",
    "\n",
    "\n",
    "\n",
    "# Введем функцию подсчета точности как доли правильных ответов\n",
    "\n",
    "def accuracy_metric(actual, predicted):\n",
    "    correct = 0\n",
    "    for i in range(len(actual)):\n",
    "        if actual[i] == predicted[i]:\n",
    "            correct += 1\n",
    "    return correct / float(len(actual)) * 100.0\n",
    "\n"
   ]
  },
  {
   "cell_type": "markdown",
   "metadata": {},
   "source": [
    "### <div id=1> 1. Сформировать с помощью sklearn.make_classification датасет из 100 объектов с двумя признаками, обучить случайный лес из 1, 3, 10 и 50 деревьев и визуализировать их разделяющие гиперплоскости на графиках</div>"
   ]
  },
  {
   "cell_type": "code",
   "execution_count": 288,
   "metadata": {},
   "outputs": [],
   "source": [
    "# сгенерируем данные, представляющие собой 100 объектов с 5-ю признаками\n",
    "classification_data, classification_labels = make_classification(n_samples=100,\n",
    "                                                                 n_features=2, n_informative=2, \n",
    "                                                                 n_classes=2, n_redundant=0, \n",
    "                                                                 n_clusters_per_class=1, random_state=23)"
   ]
  },
  {
   "cell_type": "code",
   "execution_count": 289,
   "metadata": {},
   "outputs": [],
   "source": [
    "# Разобьем выборку на обучающую и тестовую\n",
    "\n",
    "from sklearn.model_selection import train_test_split\n",
    "\n",
    "train_data, test_data, train_labels, test_labels = train_test_split(classification_data, \n",
    "                                                                    classification_labels, \n",
    "                                                                    test_size=0.3,\n",
    "                                                                    random_state=1)"
   ]
  },
  {
   "cell_type": "code",
   "execution_count": 290,
   "metadata": {},
   "outputs": [],
   "source": [
    "@time_\n",
    "def algorithm_accuracy(train_data, train_labels, n_trees):    \n",
    "    my_forest_1 = random_forest(train_data, train_labels, n_trees)\n",
    "\n",
    "    # Получим ответы для обучающей выборки \n",
    "    train_answers = tree_vote(my_forest_1, train_data)\n",
    "\n",
    "    # И получим ответы для тестовой выборки\n",
    "    test_answers = tree_vote(my_forest_1, test_data)\n",
    "\n",
    "    # Точность на обучающей выборке\n",
    "    train_accuracy = accuracy_metric(train_labels, train_answers)\n",
    "    print(f'Точность случайного леса из {n_trees} деревьев на обучающей выборке: {train_accuracy:.3f}')\n",
    "\n",
    "    # Точность на тестовой выборке\n",
    "    test_accuracy = accuracy_metric(test_labels, test_answers)\n",
    "    print(f'Точность случайного леса из {n_trees} деревьев на тестовой выборке: {test_accuracy:.3f}')\n",
    "    return my_forest_1,train_accuracy,test_accuracy"
   ]
  },
  {
   "cell_type": "code",
   "execution_count": 291,
   "metadata": {},
   "outputs": [
    {
     "name": "stdout",
     "output_type": "stream",
     "text": [
      "time random_forest: 7.197 ms\n",
      "Точность случайного леса из 1 деревьев на обучающей выборке: 94.286\n",
      "Точность случайного леса из 1 деревьев на тестовой выборке: 76.667\n",
      "time algorithm_accuracy: 7.586 ms\n"
     ]
    },
    {
     "data": {
      "text/plain": [
       "(94.28571428571428, 76.66666666666667)"
      ]
     },
     "execution_count": 291,
     "metadata": {},
     "output_type": "execute_result"
    }
   ],
   "source": []
  },
  {
   "cell_type": "code",
   "execution_count": 292,
   "metadata": {},
   "outputs": [
    {
     "name": "stdout",
     "output_type": "stream",
     "text": [
      "time random_forest: 6.949 ms\n",
      "Точность случайного леса из 1 деревьев на обучающей выборке: 97.143\n",
      "Точность случайного леса из 1 деревьев на тестовой выборке: 80.000\n",
      "time algorithm_accuracy: 7.331 ms\n",
      "time random_forest: 14.480 ms\n",
      "Точность случайного леса из 3 деревьев на обучающей выборке: 98.571\n",
      "Точность случайного леса из 3 деревьев на тестовой выборке: 86.667\n",
      "time algorithm_accuracy: 15.028 ms\n",
      "time random_forest: 59.694 ms\n",
      "Точность случайного леса из 10 деревьев на обучающей выборке: 100.000\n",
      "Точность случайного леса из 10 деревьев на тестовой выборке: 80.000\n",
      "time algorithm_accuracy: 68.489 ms\n",
      "time random_forest: 261.897 ms\n",
      "Точность случайного леса из 50 деревьев на обучающей выборке: 100.000\n",
      "Точность случайного леса из 50 деревьев на тестовой выборке: 86.667\n",
      "time algorithm_accuracy: 269.099 ms\n",
      "time random_forest: 508.863 ms\n",
      "Точность случайного леса из 100 деревьев на обучающей выборке: 100.000\n",
      "Точность случайного леса из 100 деревьев на тестовой выборке: 86.667\n",
      "time algorithm_accuracy: 522.991 ms\n",
      "time random_forest: 1546.307 ms\n",
      "Точность случайного леса из 300 деревьев на обучающей выборке: 100.000\n",
      "Точность случайного леса из 300 деревьев на тестовой выборке: 86.667\n",
      "time algorithm_accuracy: 1592.338 ms\n",
      "time random_forest: 1961.678 ms\n",
      "Точность случайного леса из 400 деревьев на обучающей выборке: 100.000\n",
      "Точность случайного леса из 400 деревьев на тестовой выборке: 86.667\n",
      "time algorithm_accuracy: 2018.931 ms\n",
      "time random_forest: 2425.897 ms\n",
      "Точность случайного леса из 500 деревьев на обучающей выборке: 100.000\n",
      "Точность случайного леса из 500 деревьев на тестовой выборке: 86.667\n",
      "time algorithm_accuracy: 2503.033 ms\n"
     ]
    },
    {
     "data": {
      "text/plain": [
       "[[1, 97.14285714285714, 80.0],\n",
       " [3, 98.57142857142858, 86.66666666666667],\n",
       " [10, 100.0, 80.0],\n",
       " [50, 100.0, 86.66666666666667],\n",
       " [100, 100.0, 86.66666666666667],\n",
       " [300, 100.0, 86.66666666666667],\n",
       " [400, 100.0, 86.66666666666667],\n",
       " [500, 100.0, 86.66666666666667]]"
      ]
     },
     "execution_count": 292,
     "metadata": {},
     "output_type": "execute_result"
    }
   ],
   "source": [
    "#обучение с разным количеством случайных деревьев\n",
    "n_trees = [1,3,10,50,100,300,400,500]\n",
    "res = []\n",
    "for item in n_trees:\n",
    "    a = [item]+list(algorithm_accuracy(train_data, train_labels, item)[1:3])    \n",
    "    res.append(a)\n",
    "res"
   ]
  },
  {
   "cell_type": "markdown",
   "metadata": {},
   "source": [
    "С ростом количества деревьев accuracy metric улучшается, но начиная с некоторого значения(n_trees = 50) она не меняется."
   ]
  },
  {
   "cell_type": "markdown",
   "metadata": {},
   "source": [
    "### <div id=2>2.Сделать выводы о получаемой сложности гиперплоскости и недообучении или переобучении случайного леса в зависимости от количества деревьев в нем</div>"
   ]
  },
  {
   "cell_type": "code",
   "execution_count": null,
   "metadata": {},
   "outputs": [],
   "source": []
  },
  {
   "cell_type": "markdown",
   "metadata": {},
   "source": [
    "### <div id=3>3. Заменить в реализованном алгоритме проверку с помощью отложенной выборки на Out-of-Bag.</div>"
   ]
  },
  {
   "cell_type": "code",
   "execution_count": 296,
   "metadata": {},
   "outputs": [],
   "source": [
    "# Реализуем класс узла\n",
    "\n",
    "\n",
    "class Node:\n",
    "    \n",
    "    def __init__(self, index, t, true_branch, false_branch):\n",
    "        self.index = index  # индекс признака, по которому ведется сравнение с порогом в этом узле\n",
    "        self.t = t  # значение порога\n",
    "        self.true_branch = true_branch  # поддерево, удовлетворяющее условию в узле\n",
    "        self.false_branch = false_branch  # поддерево, не удовлетворяющее условию в узле\n",
    "        #Здесь будет хранится бутстрап выборка на которой текущее дерево обучалось\n",
    "        self.sample_bootstrap = []\n",
    "\n",
    "       "
   ]
  },
  {
   "cell_type": "code",
   "execution_count": 297,
   "metadata": {},
   "outputs": [],
   "source": [
    "#Теперь добавим функцию формирования случайного леса.\n",
    "@time_\n",
    "def random_forest(data, labels, n_trees):\n",
    "    forest = []\n",
    "    bootstrap = get_bootstrap(data, labels, n_trees)\n",
    "    \n",
    "    for b_data, b_labels in bootstrap:\n",
    "        result = build_tree(b_data, b_labels)\n",
    "        result.sample_bootstrap = b_data \n",
    "        forest.append(result)\n",
    "        \n",
    "    return forest"
   ]
  },
  {
   "cell_type": "code",
   "execution_count": null,
   "metadata": {},
   "outputs": [],
   "source": []
  },
  {
   "cell_type": "code",
   "execution_count": null,
   "metadata": {},
   "outputs": [],
   "source": []
  },
  {
   "cell_type": "code",
   "execution_count": 298,
   "metadata": {},
   "outputs": [],
   "source": [
    "@time_\n",
    "def algorithm_accuracy(train_data, train_labels, n_trees):    \n",
    "    my_forest_1 = random_forest(train_data, train_labels, n_trees)\n",
    "\n",
    "    # Получим ответы для обучающей выборки \n",
    "    train_answers = tree_vote(my_forest_1, train_data)\n",
    "\n",
    "    # И получим ответы для тестовой выборки\n",
    "    test_answers = tree_vote(my_forest_1, test_data)\n",
    "\n",
    "    # Точность на обучающей выборке\n",
    "    train_accuracy = accuracy_metric(train_labels, train_answers)\n",
    "    print(f'Точность случайного леса из {n_trees} деревьев на обучающей выборке: {train_accuracy:.3f}')\n",
    "\n",
    "    # Точность на тестовой выборке\n",
    "    test_accuracy = accuracy_metric(test_labels, test_answers)\n",
    "    print(f'Точность случайного леса из {n_trees} деревьев на тестовой выборке: {test_accuracy:.3f}')\n",
    "    return my_forest_1,train_accuracy,test_accuracy"
   ]
  },
  {
   "cell_type": "code",
   "execution_count": 299,
   "metadata": {},
   "outputs": [
    {
     "name": "stdout",
     "output_type": "stream",
     "text": [
      "time random_forest: 6.205 ms\n",
      "Точность случайного леса из 1 деревьев на обучающей выборке: 100.000\n",
      "Точность случайного леса из 1 деревьев на тестовой выборке: 80.000\n",
      "time algorithm_accuracy: 6.724 ms\n"
     ]
    },
    {
     "data": {
      "text/plain": [
       "([<__main__.Node at 0x2bacdf73fc8>], 100.0, 80.0)"
      ]
     },
     "execution_count": 299,
     "metadata": {},
     "output_type": "execute_result"
    }
   ],
   "source": [
    "n_trees = 1\n",
    "n_trees_1 = algorithm_accuracy(train_data, train_labels, n_trees)\n",
    "n_trees_1"
   ]
  },
  {
   "cell_type": "code",
   "execution_count": 307,
   "metadata": {},
   "outputs": [
    {
     "data": {
      "text/plain": [
       "array([[ 0.29032534, -0.1935651 ],\n",
       "       [ 0.95210618, -0.24334078],\n",
       "       [ 0.76594254, -1.2104025 ],\n",
       "       [ 0.76594254, -1.2104025 ],\n",
       "       [ 0.77719504, -0.89925724],\n",
       "       [-0.16203187, -0.45303092],\n",
       "       [-0.20596881, -0.75485359],\n",
       "       [ 0.7432376 , -1.19378765],\n",
       "       [-0.16203187, -0.45303092],\n",
       "       [-1.27616996, -1.15229747],\n",
       "       [ 0.29776211, -0.65527205],\n",
       "       [ 1.43387154,  0.31274475],\n",
       "       [-1.44867457, -1.30836505],\n",
       "       [-0.54813278, -0.39241207],\n",
       "       [-1.2551872 , -1.34785289],\n",
       "       [ 0.77719504, -0.89925724],\n",
       "       [ 0.30003015, -1.43463906],\n",
       "       [ 1.35944823, -0.51447403],\n",
       "       [ 0.77719504, -0.89925724],\n",
       "       [ 1.63478531,  0.33127428],\n",
       "       [-0.82743156, -1.05630101],\n",
       "       [ 1.41992702, -2.02770251],\n",
       "       [-1.65654444, -1.39697675],\n",
       "       [ 0.75356225, -1.93718584],\n",
       "       [ 1.42010067, -0.73130767],\n",
       "       [-0.02369184, -2.20795749],\n",
       "       [ 0.77719504, -0.89925724],\n",
       "       [ 0.77719504, -0.89925724],\n",
       "       [ 1.89540771, -0.66243714],\n",
       "       [ 0.26719555, -1.39258319],\n",
       "       [ 0.2357014 , -0.70960755],\n",
       "       [ 1.22433928, -0.07600776],\n",
       "       [-1.27616996, -1.15229747],\n",
       "       [-1.6703469 , -1.40923679],\n",
       "       [ 1.41992702, -2.02770251],\n",
       "       [-2.3404753 , -1.42946665],\n",
       "       [-0.35118015, -0.33169791],\n",
       "       [ 1.89540771, -0.66243714],\n",
       "       [ 0.30003015, -1.43463906],\n",
       "       [ 0.95210618, -0.24334078],\n",
       "       [-1.2551872 , -1.34785289],\n",
       "       [ 0.29032534, -0.1935651 ],\n",
       "       [-1.27616996, -1.15229747],\n",
       "       [ 0.2357014 , -0.70960755],\n",
       "       [-0.33976363, -0.43270334],\n",
       "       [ 1.22433928, -0.07600776],\n",
       "       [-2.3404753 , -1.42946665],\n",
       "       [ 0.2357014 , -0.70960755],\n",
       "       [ 1.43387154,  0.31274475],\n",
       "       [ 1.42010067, -0.73130767],\n",
       "       [ 1.63478531,  0.33127428],\n",
       "       [ 1.22433928, -0.07600776],\n",
       "       [ 1.27392667, -0.87420414],\n",
       "       [-1.6703469 , -1.40923679],\n",
       "       [ 0.75356225, -1.93718584],\n",
       "       [ 1.40819172, -0.95107001],\n",
       "       [ 1.41992702, -2.02770251],\n",
       "       [ 0.2983303 , -1.20310229],\n",
       "       [ 0.76702748, -3.59322681],\n",
       "       [ 0.29776211, -0.65527205],\n",
       "       [-0.03768929, -0.56641441],\n",
       "       [-1.3080473 , -1.14350806],\n",
       "       [-1.29522216, -0.93551741],\n",
       "       [ 0.29032534, -0.1935651 ],\n",
       "       [ 0.90720936,  1.19836712],\n",
       "       [ 1.63478531,  0.33127428],\n",
       "       [-1.27616996, -1.15229747],\n",
       "       [-0.05274498, -0.62523073],\n",
       "       [ 1.63478531,  0.33127428],\n",
       "       [ 0.90720936,  1.19836712]])"
      ]
     },
     "execution_count": 307,
     "metadata": {},
     "output_type": "execute_result"
    }
   ],
   "source": [
    "tree = n_trees_1[0][0]\n",
    "t = tree.sample_bootstrap\n",
    "t"
   ]
  },
  {
   "cell_type": "code",
   "execution_count": 311,
   "metadata": {},
   "outputs": [
    {
     "data": {
      "text/plain": [
       "array([False, False, False, False, False, False, False, False, False,\n",
       "       False, False, False, False, False, False, False, False, False,\n",
       "       False, False, False, False, False, False, False, False, False,\n",
       "       False, False, False, False, False, False, False, False, False,\n",
       "       False, False, False, False, False, False, False, False, False,\n",
       "       False, False, False, False, False, False, False, False, False,\n",
       "       False, False, False, False, False, False, False, False, False,\n",
       "       False, False, False, False, False, False, False, False, False,\n",
       "       False, False, False, False, False, False, False, False, False,\n",
       "       False, False, False, False, False, False, False, False, False,\n",
       "       False, False, False, False, False, False, False, False, False,\n",
       "       False, False, False, False, False, False, False, False, False,\n",
       "       False, False, False, False, False, False, False, False, False,\n",
       "       False, False, False, False, False, False, False, False, False,\n",
       "       False, False, False, False, False, False, False, False, False,\n",
       "       False, False, False, False, False])"
      ]
     },
     "execution_count": 311,
     "metadata": {},
     "output_type": "execute_result"
    }
   ],
   "source": [
    "x = [0.29032534, -0.1935651]\n",
    "\n",
    "t = np.ravel(t)\n",
    "np.isin(t, x)"
   ]
  },
  {
   "cell_type": "markdown",
   "metadata": {},
   "source": [
    "### <div id=4>4. (На повторение) Переписать функцию gini из урока про решающие деревья так, чтобы в качестве критерия использовалась энтропия Шэннона. Переименовать функцию в entropy</div>"
   ]
  },
  {
   "cell_type": "code",
   "execution_count": 293,
   "metadata": {},
   "outputs": [],
   "source": [
    "# Критерий энтропия Шеннона\n",
    "\n",
    "def entropy(labels):    \n",
    "    #  подсчет количества объектов разных классов\n",
    "    classes = {}\n",
    "    for label in labels:\n",
    "        if label not in classes:\n",
    "            classes[label] = 0\n",
    "        classes[label] += 1\n",
    "    \n",
    "    #  расчет критерия\n",
    "    res = 0\n",
    "    for label in classes:\n",
    "        p = classes[label] / len(labels)\n",
    "        res += p*np.log2(p) \n",
    "    return -res"
   ]
  },
  {
   "cell_type": "code",
   "execution_count": null,
   "metadata": {},
   "outputs": [],
   "source": []
  }
 ],
 "metadata": {
  "colab": {
   "collapsed_sections": [],
   "name": "Lesson_5.ipynb",
   "provenance": [],
   "toc_visible": true
  },
  "kernelspec": {
   "display_name": "Python 3",
   "language": "python",
   "name": "python3"
  },
  "language_info": {
   "codemirror_mode": {
    "name": "ipython",
    "version": 3
   },
   "file_extension": ".py",
   "mimetype": "text/x-python",
   "name": "python",
   "nbconvert_exporter": "python",
   "pygments_lexer": "ipython3",
   "version": "3.7.4"
  }
 },
 "nbformat": 4,
 "nbformat_minor": 1
}
