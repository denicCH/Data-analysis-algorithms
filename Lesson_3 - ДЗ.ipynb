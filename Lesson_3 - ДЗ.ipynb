{
 "cells": [
  {
   "cell_type": "code",
   "execution_count": 407,
   "metadata": {
    "colab": {},
    "colab_type": "code",
    "id": "zhwkeWtb1O0w"
   },
   "outputs": [],
   "source": [
    "import numpy as np\n",
    "import matplotlib.pyplot as plt"
   ]
  },
  {
   "cell_type": "code",
   "execution_count": 542,
   "metadata": {
    "colab": {},
    "colab_type": "code",
    "id": "FeKFn2yb1To4"
   },
   "outputs": [],
   "source": [
    "X = np.array([[1, 1, 1, 1, 1, 1, 1, 1, 1, 1],\n",
    "              [1, 1, 2, 1, 3, 0, 5, 10, 1, 2],\n",
    "              [500, 700, 750, 600, 1450, 800, 1500, 2000, 450, 1000],\n",
    "              [1, 1, 2, 1, 2, 1, 3, 3, 1, 2]], dtype = np.float64)\n",
    "\n",
    "y = np.array([0, 0, 1, 0, 1, 0, 1, 0, 1, 1], dtype = np.float64)\n"
   ]
  },
  {
   "cell_type": "code",
   "execution_count": 528,
   "metadata": {
    "colab": {},
    "colab_type": "code",
    "id": "M-aO1NTxOUfo"
   },
   "outputs": [],
   "source": [
    "def calc_std_feat(x):\n",
    "    res = (x - x.mean()) / x.std()\n",
    "    return res"
   ]
  },
  {
   "cell_type": "code",
   "execution_count": 529,
   "metadata": {
    "colab": {},
    "colab_type": "code",
    "id": "EEF9rWPNDnss"
   },
   "outputs": [],
   "source": [
    "def sigmoid(z):\n",
    "    res = 1 / (1 + np.exp(-z))\n",
    "    return res"
   ]
  },
  {
   "cell_type": "code",
   "execution_count": 530,
   "metadata": {},
   "outputs": [],
   "source": [
    "X_st = X.copy()\n",
    "X_st[1, :] = calc_std_feat(X[1, :])\n",
    "X_st[2, :] = calc_std_feat(X[2, :])\n",
    "X_st[3, :] = calc_std_feat(X[3, :])"
   ]
  },
  {
   "cell_type": "markdown",
   "metadata": {},
   "source": [
    "### 1. Измените функцию calc_logloss так, чтобы нули по возможности не попадали в np.log\n",
    "Произведем замену нуля и единицы на значения близкие к ним соответственно, на величину допустимой ошибки. Добавим параметр accuracy(величину допустимой ошибки)к функции calc_logloss"
   ]
  },
  {
   "cell_type": "code",
   "execution_count": 531,
   "metadata": {
    "colab": {},
    "colab_type": "code",
    "id": "qMR5pOA38dDw"
   },
   "outputs": [],
   "source": [
    "def calc_logloss(y, y_pred,accuracy = 1e-10):    \n",
    "    \n",
    "    y_pred = y_pred*1.0\n",
    "    y_pred[y_pred==1.0] = 1-accuracy #Заменяет все единицы, если таковые есть, числом близким к 1  \n",
    "    y_pred[y_pred==0] = accuracy   #Заменяет все нули, если таковые есть, числом определенным параметром accuracy\n",
    "    \n",
    "    err = - np.mean(y * np.log(y_pred) + (1.0 - y) * np.log(1.0 - y_pred))\n",
    "    return err"
   ]
  },
  {
   "cell_type": "markdown",
   "metadata": {},
   "source": [
    "### 2. Подберите аргументы функции eval_model для логистической регрессии таким образом, чтобы log loss был минимальны"
   ]
  },
  {
   "cell_type": "code",
   "execution_count": 535,
   "metadata": {
    "colab": {},
    "colab_type": "code",
    "id": "qtgUN3LW-UIq"
   },
   "outputs": [],
   "source": [
    "def eval_model(X, y, iterations, alpha=1e-4):\n",
    "    np.random.seed(42)\n",
    "    W = np.random.randn(X.shape[0])\n",
    "    n = X.shape[1]\n",
    "    for i in range(1, iterations+1):\n",
    "        z = np.dot(W, X)\n",
    "        y_pred = sigmoid(z)\n",
    "        err = calc_logloss(y, y_pred)\n",
    "        W -= alpha * (1/n * np.dot((y_pred - y), X.T))\n",
    "       # if i % (iterations / 10) == 0:\n",
    "        #    print(i, W, err)\n",
    "    return W,err"
   ]
  },
  {
   "cell_type": "markdown",
   "metadata": {},
   "source": [
    "__Ошибка уменьшается с ростом параметра iterations при фиксированном параметре alpha=1e-1__"
   ]
  },
  {
   "cell_type": "code",
   "execution_count": 603,
   "metadata": {},
   "outputs": [],
   "source": [
    "alpha = [0.1**x for x in np.arange(1,7)]\n",
    "iterations = [10**x for x in np.arange(1,8)]\n",
    "\n",
    "def min_logloss(iterations,alpha):\n",
    "    resalt = []\n",
    "    for iteration in iterations:\n",
    "        for item_alpha in alpha:            \n",
    "            value = eval_model(X_st, y, iterations=iteration, alpha=item_alpha)\n",
    "            resalt.append([value[1],iteration,item_alpha,value[0]])    \n",
    "    return np.array(resalt)"
   ]
  },
  {
   "cell_type": "code",
   "execution_count": 604,
   "metadata": {},
   "outputs": [
    {
     "data": {
      "text/plain": [
       "array([[0.0019925103606355894, 10000000, 0.1,\n",
       "        array([ 34.94384443, -57.21094237, -90.18859581, 179.199862  ])]],\n",
       "      dtype=object)"
      ]
     },
     "execution_count": 604,
     "metadata": {},
     "output_type": "execute_result"
    }
   ],
   "source": [
    "min_err_logloss = min_logloss(iterations,alpha)\n",
    "i = np.argmin(min_err_logloss[:,0:3], axis=0)[0]\n",
    "result = min_err_logloss[i:i+1,:]\n",
    "result"
   ]
  },
  {
   "cell_type": "code",
   "execution_count": 563,
   "metadata": {},
   "outputs": [
    {
     "data": {
      "text/plain": [
       "array([[0.018903424327598818, 1000000, 0.1,\n",
       "        array([ 18.48339152, -31.66669169, -45.72519691,  93.39039439])]],\n",
       "      dtype=object)"
      ]
     },
     "execution_count": 563,
     "metadata": {},
     "output_type": "execute_result"
    }
   ],
   "source": [
    "min_err_logloss = min_logloss(iterations,alpha)\n",
    "i = np.argmin(min_err_logloss[:,0:3], axis=0)[0]\n",
    "result = min_err_logloss[i:i+1,:]\n",
    "result"
   ]
  },
  {
   "cell_type": "code",
   "execution_count": 565,
   "metadata": {},
   "outputs": [
    {
     "data": {
      "text/plain": [
       "array([[array([ 0.44971291, -0.37392863,  0.43417109,  1.41927966])],\n",
       "       [array([ 0.49299873, -0.16323078,  0.62466872,  1.51095461])],\n",
       "       [array([ 0.49635347, -0.14077377,  0.64537095,  1.52180621])],\n",
       "       [array([ 0.49667819, -0.13851537,  0.64745662,  1.52290733])],\n",
       "       [array([ 0.49671056, -0.13828941,  0.64766535,  1.5230176 ])],\n",
       "       [array([ 0.49671379, -0.13826681,  0.64768622,  1.52302863])],\n",
       "       [array([ 0.09138926, -1.16094315, -0.1252748 ,  1.70944249])],\n",
       "       [array([ 0.44889713, -0.37252874,  0.4358295 ,  1.42095128])],\n",
       "       [array([ 0.49298692, -0.16321668,  0.6246859 ,  1.51097235])],\n",
       "       [array([ 0.49635335, -0.14077362,  0.64537112,  1.52180639])],\n",
       "       [array([ 0.49667819, -0.13851537,  0.64745663,  1.52290733])],\n",
       "       [array([ 0.49671056, -0.13828941,  0.64766535,  1.5230176 ])],\n",
       "       [array([ 0.37731566, -2.73985947, -1.18135067,  4.58774123])],\n",
       "       [array([ 0.09249613, -1.16047276, -0.12476714,  1.70921775])],\n",
       "       [array([ 0.44881796, -0.37239011,  0.43599362,  1.42111651])],\n",
       "       [array([ 0.49298574, -0.16321527,  0.62468762,  1.51097412])],\n",
       "       [array([ 0.49635334, -0.14077361,  0.64537114,  1.52180641])],\n",
       "       [array([ 0.49667819, -0.13851537,  0.64745663,  1.52290733])],\n",
       "       [array([ 2.48428253, -6.06769399, -5.34752279, 13.29132815])],\n",
       "       [array([ 0.37709968, -2.73927415, -1.18092674,  4.58661313])],\n",
       "       [array([ 0.0926064 , -1.1604244 , -0.12471545,  1.70919609])],\n",
       "       [array([ 0.44881007, -0.37237626,  0.43601001,  1.42113302])],\n",
       "       [array([ 0.49298562, -0.16321512,  0.62468779,  1.5109743 ])],\n",
       "       [array([ 0.49635334, -0.14077361,  0.64537114,  1.52180641])],\n",
       "       [array([  7.51404415, -14.60534565, -16.19819809,  36.33442373])],\n",
       "       [array([ 2.48411377, -6.06742451, -5.3471943 , 13.29062674])],\n",
       "       [array([ 0.37707809, -2.73921559, -1.18088438,  4.58650033])],\n",
       "       [array([ 0.09261742, -1.16041955, -0.12471027,  1.70919394])],\n",
       "       [array([ 0.44880928, -0.37237487,  0.43601165,  1.42113467])],\n",
       "       [array([ 0.49298561, -0.16321511,  0.62468781,  1.51097431])],\n",
       "       [array([ 18.48339152, -31.66669169, -45.72519691,  93.39039439])],\n",
       "       [array([  7.51399356, -14.60526158, -16.19807321,  36.33417122])],\n",
       "       [array([ 2.4840969 , -6.06739756, -5.34716145, 13.29055661])],\n",
       "       [array([ 0.37707593, -2.73920974, -1.18088014,  4.58648905])],\n",
       "       [array([ 0.09261852, -1.16041907, -0.12470975,  1.70919372])],\n",
       "       [array([ 0.4488092 , -0.37237473,  0.43601182,  1.42113483])]],\n",
       "      dtype=object)"
      ]
     },
     "execution_count": 565,
     "metadata": {},
     "output_type": "execute_result"
    }
   ],
   "source": [
    "min_err_logloss[:,3:]"
   ]
  },
  {
   "cell_type": "markdown",
   "metadata": {},
   "source": [
    "### 3.Создайте функцию calc_pred_proba, возвращающую предсказанную вероятность класса 1 (на вход подаются W, который уже посчитан функцией eval_model и X, на выходе - массив y_pred_proba)."
   ]
  },
  {
   "cell_type": "code",
   "execution_count": 575,
   "metadata": {
    "colab": {},
    "colab_type": "code",
    "id": "jp0AQlnkRBWC"
   },
   "outputs": [],
   "source": [
    "def calc_pred_proba(W,X):\n",
    "    y_pred_proba = 1 / (1 + np.exp(-np.dot(W,X)))\n",
    "    return y_pred_proba "
   ]
  },
  {
   "cell_type": "code",
   "execution_count": 592,
   "metadata": {},
   "outputs": [
    {
     "data": {
      "text/plain": [
       "array([8.85614391e-02, 6.26364745e-10, 1.00000000e+00, 7.80133447e-06,\n",
       "       9.93567196e-01, 4.10345796e-09, 1.00000000e+00, 1.63083231e-03,\n",
       "       9.15569109e-01, 1.00000000e+00])"
      ]
     },
     "execution_count": 592,
     "metadata": {},
     "output_type": "execute_result"
    }
   ],
   "source": [
    "W = result[0][3]\n",
    "calc_pred_proba(W ,X_st)"
   ]
  },
  {
   "cell_type": "markdown",
   "metadata": {},
   "source": [
    "### 4.Создайте функцию calc_pred, возвращающую предсказанный класс (на вход подаются W, который уже посчитан функцией eval_model и X, на выходе - массив y_pred)."
   ]
  },
  {
   "cell_type": "code",
   "execution_count": 593,
   "metadata": {},
   "outputs": [],
   "source": [
    "def calc_pred(W,X):\n",
    "    y_pred_proba = calc_pred_proba(W,X)\n",
    "    y_pred = []\n",
    "    for i in y_pred_proba:\n",
    "        if (i > 0.5): \n",
    "            y_pred.append(1)\n",
    "        elif (i <= 0.5):\n",
    "            y_pred.append(0)\n",
    "    return np.array(y_pred) "
   ]
  },
  {
   "cell_type": "code",
   "execution_count": 596,
   "metadata": {},
   "outputs": [
    {
     "data": {
      "text/plain": [
       "array([0, 0, 1, 0, 1, 0, 1, 0, 1, 1])"
      ]
     },
     "execution_count": 596,
     "metadata": {},
     "output_type": "execute_result"
    }
   ],
   "source": [
    "y_pred = calc_pred(W ,X_st)\n",
    "y_pred"
   ]
  },
  {
   "cell_type": "markdown",
   "metadata": {},
   "source": [
    "### 5. Посчитайте Accuracy, матрицу ошибок, точность и полноту, а также F1 score"
   ]
  },
  {
   "cell_type": "code",
   "execution_count": 647,
   "metadata": {},
   "outputs": [
    {
     "data": {
      "text/plain": [
       "1.0"
      ]
     },
     "execution_count": 647,
     "metadata": {},
     "output_type": "execute_result"
    }
   ],
   "source": [
    "def accurac(y, y_pred):    \n",
    "    return np.mean(np.abs(y == y_pred))\n",
    "                   \n",
    "accurac(y,y_pred)                  "
   ]
  },
  {
   "cell_type": "markdown",
   "metadata": {},
   "source": [
    "__Построим матрицу ошибок__"
   ]
  },
  {
   "cell_type": "code",
   "execution_count": 599,
   "metadata": {},
   "outputs": [],
   "source": [
    "def error_matrix(y, y_pred):\n",
    "    error_matrix = np.zeros((2,2))\n",
    "    for key, item_y in enumerate(y):\n",
    "        if item_y == 1 and y_pred[key] == 1:\n",
    "            error_matrix[0,0] += 1\n",
    "        elif item_y == 1 and y_pred[key] == 0:\n",
    "            error_matrix[1,0] += 1\n",
    "        elif item_y == 0 and y_pred[key] == 1:\n",
    "            error_matrix[0,1] += 1\n",
    "        elif item_y == 0 and y_pred[key] == 0:\n",
    "            error_matrix[1,1] += 1\n",
    "            \n",
    "        \n",
    "    return error_matrix\n",
    "\n",
    "error_matrix_res = error_matrix(y, y_pred)"
   ]
  },
  {
   "cell_type": "code",
   "execution_count": 600,
   "metadata": {},
   "outputs": [
    {
     "data": {
      "text/plain": [
       "array([[3., 3.],\n",
       "       [2., 4.]])"
      ]
     },
     "execution_count": 600,
     "metadata": {},
     "output_type": "execute_result"
    }
   ],
   "source": [
    "y_test = np.array([0,0,0,1,1,0,1,0,1,0,1,0])\n",
    "y_pred_test = np.array([1,0,1,0,1,0,1,0,0,1,1,0])\n",
    "\n",
    "error_matrix_res = error_matrix(y_test, y_pred_test)\n",
    "error_matrix_res"
   ]
  },
  {
   "cell_type": "markdown",
   "metadata": {},
   "source": [
    "__Определим точность и полноту__"
   ]
  },
  {
   "cell_type": "code",
   "execution_count": 601,
   "metadata": {},
   "outputs": [
    {
     "name": "stdout",
     "output_type": "stream",
     "text": [
      "𝑝𝑟𝑒𝑐𝑖𝑠𝑖𝑜𝑛: 0.5\n",
      "𝑟𝑒𝑐𝑎𝑙𝑙: 0.6\n"
     ]
    }
   ],
   "source": [
    "def 𝑝𝑟𝑒𝑐𝑖𝑠𝑖𝑜𝑛(error_matrix):\n",
    "    return error_matrix[0,0]/(error_matrix[0,0] + error_matrix[0,1])\n",
    "\n",
    "def 𝑟𝑒𝑐𝑎𝑙𝑙(error_matrix):\n",
    "    return error_matrix[0,0]/(error_matrix[0,0] + error_matrix[1,0])\n",
    "\n",
    "\n",
    "𝑝𝑟𝑒𝑐𝑖𝑠𝑖𝑜𝑛_ = 𝑝𝑟𝑒𝑐𝑖𝑠𝑖𝑜𝑛(error_matrix_res)\n",
    "𝑟𝑒𝑐𝑎𝑙𝑙_ = 𝑟𝑒𝑐𝑎𝑙𝑙(error_matrix_res)\n",
    "print(f\"𝑝𝑟𝑒𝑐𝑖𝑠𝑖𝑜𝑛: {𝑝𝑟𝑒𝑐𝑖𝑠𝑖𝑜𝑛_}\")\n",
    "print(f\"𝑟𝑒𝑐𝑎𝑙𝑙: {𝑟𝑒𝑐𝑎𝑙𝑙_}\")"
   ]
  },
  {
   "cell_type": "markdown",
   "metadata": {},
   "source": [
    "__Определим F1 score__"
   ]
  },
  {
   "cell_type": "code",
   "execution_count": 602,
   "metadata": {},
   "outputs": [
    {
     "data": {
      "text/plain": [
       "0.5454545454545454"
      ]
     },
     "execution_count": 602,
     "metadata": {},
     "output_type": "execute_result"
    }
   ],
   "source": [
    "def score_f_n(error_matrix,n:int=1):\n",
    "    f_score = (1+n**2)*𝑝𝑟𝑒𝑐𝑖𝑠𝑖𝑜𝑛(error_matrix) * 𝑟𝑒𝑐𝑎𝑙𝑙(error_matrix)/(n**2 * 𝑝𝑟𝑒𝑐𝑖𝑠𝑖𝑜𝑛(error_matrix) + 𝑟𝑒𝑐𝑎𝑙𝑙(error_matrix))\n",
    "    return f_score\n",
    "score_f_n(error_matrix_res)    "
   ]
  },
  {
   "cell_type": "markdown",
   "metadata": {},
   "source": [
    "### 6. Могла ли модель переобучиться? Почему?"
   ]
  },
  {
   "cell_type": "markdown",
   "metadata": {},
   "source": [
    "Одним из признаков, что произошло переобучение модели, получение больших по модулю весов при признаках.\n",
    "При изменении параметра  iterations функции eval_model в сторону увеличения уменьшается ошибка предсказания целевой переменной, но одновременно с этим растут веса при признаках, что говорит о том, что с  увеличением iterations, модель способна переобучиться. При iterations=100000, модель не переобучилась. Другим признаком переобучения является значительный перекос значений метрик между обучающей и тестовой выборках. В нашей модели этого перекоса нет. Вывод: модель не переобучилась."
   ]
  },
  {
   "cell_type": "code",
   "execution_count": 609,
   "metadata": {},
   "outputs": [],
   "source": [
    "X = np.array([[1, 1, 1, 1, 1, 1, 1, 1, 1, 1],\n",
    "              [1, 1, 2, 1, 3, 0, 5, 10, 1, 2],\n",
    "              [500, 700, 750, 600, 1450, 800, 1500, 2000, 450, 1000],\n",
    "              [1, 1, 2, 1, 2, 1, 3, 3, 1, 2]], dtype = np.float64)\n",
    "\n",
    "y = np.array([0, 0, 1, 0, 1, 0, 1, 0, 1, 1], dtype = np.float64)"
   ]
  },
  {
   "cell_type": "code",
   "execution_count": 625,
   "metadata": {},
   "outputs": [],
   "source": [
    "X_st = X.copy()\n",
    "X_st[1, :] = calc_std_feat(X[1, :])\n",
    "X_st[2, :] = calc_std_feat(X[2, :])\n",
    "X_st[3, :] = calc_std_feat(X[3, :])\n",
    "X_st = X_st.T"
   ]
  },
  {
   "cell_type": "code",
   "execution_count": 626,
   "metadata": {},
   "outputs": [
    {
     "name": "stdout",
     "output_type": "stream",
     "text": [
      "Размер массива признаков обучающей выборки (7, 4)\n",
      "Размер массива признаков тестовой выборки (3, 4)\n",
      "Размер массива ответов для обучающей выборки (7,)\n",
      "Размер массива ответов для тестовой выборки (3,)\n"
     ]
    }
   ],
   "source": [
    "# перемешивание датасета\n",
    "np.random.seed(12)\n",
    "shuffle_index = np.random.permutation(X_st.shape[0])\n",
    "X_shuffled, y_shuffled = X_st[shuffle_index], y[shuffle_index]\n",
    "\n",
    "# разбивка на обучающую и тестовую выборки\n",
    "train_proportion = 0.7\n",
    "train_test_cut = int(len(X_st) * train_proportion)\n",
    "\n",
    "X_train, X_test, y_train, y_test = \\\n",
    "    X_shuffled[:train_test_cut], \\\n",
    "    X_shuffled[train_test_cut:], \\\n",
    "    y_shuffled[:train_test_cut], \\\n",
    "    y_shuffled[train_test_cut:]\n",
    "    \n",
    "print(\"Размер массива признаков обучающей выборки\", X_train.shape)\n",
    "print(\"Размер массива признаков тестовой выборки\", X_test.shape)\n",
    "print(\"Размер массива ответов для обучающей выборки\", y_train.shape)\n",
    "print(\"Размер массива ответов для тестовой выборки\", y_test.shape)"
   ]
  },
  {
   "cell_type": "code",
   "execution_count": 654,
   "metadata": {},
   "outputs": [
    {
     "name": "stdout",
     "output_type": "stream",
     "text": [
      "Итоговый вектор весов w: [  8.49898796 -16.21191028 -18.69294049  41.30996939]\n",
      "Точность на обучающей выборке: 100.000\n",
      "Точность на тестовой выборке: 100.000\n"
     ]
    }
   ],
   "source": [
    "n_iterations = 100000\n",
    "eta = 0.1\n",
    "\n",
    "w, losses = eval_model(X_train.T, y_train.T, n_iterations, eta)\n",
    "\n",
    "y_predicted_test = calc_pred(w, X_test.T)\n",
    "y_predicted_train = calc_pred(w, X_train.T)\n",
    "\n",
    "# В качестве меры точности возьмем долю правильных ответов\n",
    "train_accuracy = accurac(y_train,y_predicted_train)*100 \n",
    "test_accuracy = accurac(y_test,y_predicted_test)*100\n",
    "\n",
    "\n",
    "print(f\"Итоговый вектор весов w: {w}\")\n",
    "print(f\"Точность на обучающей выборке: {train_accuracy:.3f}\")\n",
    "print(f\"Точность на тестовой выборке: {test_accuracy:.3f}\")"
   ]
  },
  {
   "cell_type": "code",
   "execution_count": 655,
   "metadata": {},
   "outputs": [
    {
     "data": {
      "text/plain": [
       "array([[2., 0.],\n",
       "       [0., 1.]])"
      ]
     },
     "execution_count": 655,
     "metadata": {},
     "output_type": "execute_result"
    }
   ],
   "source": [
    "error_matrix(y_test,y_predicted_test)"
   ]
  },
  {
   "cell_type": "code",
   "execution_count": null,
   "metadata": {},
   "outputs": [],
   "source": []
  },
  {
   "cell_type": "code",
   "execution_count": null,
   "metadata": {},
   "outputs": [],
   "source": []
  },
  {
   "cell_type": "code",
   "execution_count": null,
   "metadata": {},
   "outputs": [],
   "source": []
  }
 ],
 "metadata": {
  "colab": {
   "collapsed_sections": [],
   "name": "Lesson3_.ipynb",
   "provenance": []
  },
  "kernelspec": {
   "display_name": "Python 3",
   "language": "python",
   "name": "python3"
  },
  "language_info": {
   "codemirror_mode": {
    "name": "ipython",
    "version": 3
   },
   "file_extension": ".py",
   "mimetype": "text/x-python",
   "name": "python",
   "nbconvert_exporter": "python",
   "pygments_lexer": "ipython3",
   "version": "3.7.4"
  }
 },
 "nbformat": 4,
 "nbformat_minor": 1
}
